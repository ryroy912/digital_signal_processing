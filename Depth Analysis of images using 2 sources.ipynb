{
 "cells": [
  {
   "cell_type": "code",
   "execution_count": null,
   "metadata": {},
   "outputs": [],
   "source": [
    "from google.colab import drive\n",
    "drive.mount('/drive')\n",
    "\n",
    "from PIL import Image\n",
    "from numpy import array\n",
    "import pandas as pd\n",
    "import numpy as np\n",
    "import PIL\n",
    "import matplotlib\n",
    "import matplotlib.pyplot as plt\n",
    "\n",
    "approx_displacement = 40 \n",
    "image_left = Image.open(r\"/drive/My Drive/Colab Notebooks/mlsp1/im0.ppm\")\n",
    "left_image_array = np.array(image_left)\n",
    "image_right = Image.open(r\"/drive/My Drive/Colab Notebooks/mlsp1/im8.ppm\")\n",
    "right_image_array = np.array(image_right)\n",
    "min_displacement_factor = 9999\n",
    "shape = (left_image_array.shape[0],left_image_array.shape[1]-approx_displacement)\n",
    "disparity_matrix = np.ones(shape)"
   ]
  },
  {
   "cell_type": "markdown",
   "metadata": {},
   "source": [
    "Disparity matrix : Which pixel in the left image resembles the picture in the right_source image the most. Record the lateral displacement of this image"
   ]
  },
  {
   "cell_type": "code",
   "execution_count": null,
   "metadata": {},
   "outputs": [],
   "source": [
    "for row in range(left_image_array.shape[0]):\n",
    "    for col in range(left_image_array.shape[1]-approx_displacement):\n",
    "        min_displacement_factor = 9999\n",
    "        for search_radii in range(approx_displacement):\n",
    "            displacement_factor = np.sum(np.abs(left_image_array[row,col+search_radii] - right_image_array[row,col]))\n",
    "            if displacement_factor < min_displacement_factor:\n",
    "                #print('displacement_factor/cost',displacement_factor)\n",
    "                #print('k',search_radii)\n",
    "                min_displacement_factor = displacement_factor\n",
    "                disparity_matrix[row,col] = search_radii \n",
    "                #print(disparity_matrix)\n",
    "disparity_matrix"
   ]
  },
  {
   "cell_type": "markdown",
   "metadata": {},
   "source": [
    "Plotting that disparity matrix and histogram"
   ]
  },
  {
   "cell_type": "code",
   "execution_count": null,
   "metadata": {},
   "outputs": [],
   "source": [
    "fig = plt.figure()\n",
    "ax = fig.add_subplot(1,1,1)\n",
    "colour_graph = ax.matshow(disparity_matrix)\n",
    "fig.colorbar(colour_graph)\n",
    "plt.show()\n",
    "plt.hist(disparity_matrix.reshape(-1),approx_displacement)\n",
    "plt.show()"
   ]
  },
  {
   "cell_type": "markdown",
   "metadata": {},
   "source": [
    "A self defined clustering algorithm to cluster the pixels into the 4 clusters"
   ]
  },
  {
   "cell_type": "code",
   "execution_count": null,
   "metadata": {},
   "outputs": [],
   "source": [
    "import random\n",
    "import statistics\n",
    "Centroids = np.array(4)\n",
    "Centroids = [1,10,20,30]\n",
    "# randomly appointed centroids \n",
    "initial_centroid = np.zeros(4)\n",
    "\n",
    "#print(Centroids)\n",
    "\n",
    "Cen0collection = []\n",
    "Cen1collection = []\n",
    "Cen2collection=[]\n",
    "Cen3collection =[]\n",
    "\n",
    "disparity_copy  = disparity_matrix.reshape(-1)\n",
    "cluster_no_holder = np.ones(disparity_copy.shape)\n",
    "itr = 50\n",
    "while(itr>0):\n",
    "      #print(itr)\n",
    "      # finding to which cluster it belongs\n",
    "      for i in range(disparity_copy.shape[0]):\n",
    "        Min_Diff = 40\n",
    "        for k in range(0,4):\n",
    "            Diff = abs(Centroids[k] - disparity_copy[i])\n",
    "            if Diff < Min_Diff:\n",
    "              Min_Diff = Diff\n",
    "              #print(i,Diff,disparity_copy[i])\n",
    "              cluster_no_holder[i] = k\n",
    "\n",
    "       # placing the cluster number  \n",
    "      for i in range(disparity_copy.shape[0]):\n",
    "        if cluster_no_holder[i] == 0:\n",
    "          Cen0collection.append(disparity_copy[i])\n",
    "        if cluster_no_holder[i] == 1:\n",
    "          Cen1collection.append(disparity_copy[i])\n",
    "        if cluster_no_holder[i] == 2:\n",
    "          Cen2collection.append(disparity_copy[i])\n",
    "        if cluster_no_holder[i] == 3:\n",
    "          Cen3collection.append(disparity_copy[i])\n",
    "\n",
    "\n",
    "      # recalculating the cluster centroids\n",
    "      Centroids[0] = statistics.mean(Cen0collection)\n",
    "      Centroids[1] = statistics.mean(Cen1collection)\n",
    "      Centroids[2] = statistics.mean(Cen2collection)\n",
    "      Centroids[3] = statistics.mean(Cen3collection)\n",
    "\n",
    "      #print(Centroids[0],Centroids[1],Centroids[2],Centroids[3])\n",
    "\n",
    "      if (Centroids[0] - initial_centroid[0]) + (Centroids[1] - initial_centroid[1]) + (Centroids[2] - initial_centroid[2]) == 0:\n",
    "        break\n",
    "      else:\n",
    "        initial_centroid[0] = Centroids[0]\n",
    "        initial_centroid[1] = Centroids[1]\n",
    "        initial_centroid[2] = Centroids[2]\n",
    "        initial_centroid[3] = Centroids[3]\n",
    "\n",
    "      itr-=1"
   ]
  },
  {
   "cell_type": "markdown",
   "metadata": {},
   "source": [
    "Printing values of clusters"
   ]
  },
  {
   "cell_type": "code",
   "execution_count": null,
   "metadata": {},
   "outputs": [],
   "source": [
    "print(Centroids)\n",
    "\n",
    "disparity_matrix_new = disparity_matrix\n",
    "\n",
    "for row in range(left_image_array.shape[0]):\n",
    "    for col in range(left_image_array.shape[1]-approx_displacement):\n",
    "      diff = 40\n",
    "      for i in range(0,4):\n",
    "        if(abs(disparity_matrix_new[row,col]-Centroids[i]) < diff):\n",
    "          centroid_number = i\n",
    "          diff = abs(disparity_matrix[row,col]-Centroids[i])\n",
    "        \n",
    "      disparity_matrix_new[row,col] = Centroids[centroid_number]"
   ]
  },
  {
   "cell_type": "markdown",
   "metadata": {},
   "source": [
    "Plotting images again "
   ]
  },
  {
   "cell_type": "code",
   "execution_count": null,
   "metadata": {},
   "outputs": [],
   "source": [
    "fig = plt.figure()\n",
    "ax = fig.add_subplot(1,1,1)\n",
    "colour_graph = ax.matshow(disparity_matrix_new)\n",
    "fig.colorbar(colour_graph)\n",
    "plt.show()"
   ]
  }
 ],
 "metadata": {
  "kernelspec": {
   "display_name": "Python 3",
   "language": "python",
   "name": "python3"
  },
  "language_info": {
   "codemirror_mode": {
    "name": "ipython",
    "version": 3
   },
   "file_extension": ".py",
   "mimetype": "text/x-python",
   "name": "python",
   "nbconvert_exporter": "python",
   "pygments_lexer": "ipython3",
   "version": "3.8.8"
  }
 },
 "nbformat": 4,
 "nbformat_minor": 2
}
